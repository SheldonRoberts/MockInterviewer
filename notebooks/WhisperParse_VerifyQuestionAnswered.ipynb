{
 "cells": [
  {
   "cell_type": "code",
   "execution_count": null,
   "id": "7156132b",
   "metadata": {},
   "outputs": [],
   "source": [
    "import whisper\n",
    "import pandas as pd"
   ]
  },
  {
   "cell_type": "code",
   "execution_count": null,
   "id": "ab10180b",
   "metadata": {},
   "outputs": [],
   "source": [
    "model = whisper.load_model(\"base\")"
   ]
  },
  {
   "cell_type": "code",
   "execution_count": 5,
   "id": "50e9e485",
   "metadata": {},
   "outputs": [
    {
     "name": "stdout",
     "output_type": "stream",
     "text": [
      "<_io.TextIOWrapper name='../data/Conflict_Resp_Interview.mp3' mode='r' encoding='UTF-8'>\n"
     ]
    }
   ],
   "source": [
    "file_name = '../data/Conflict_Resp_Interview.mp3'\n",
    "# load audio and pad/trim it to fit 30 seconds\n",
    "audio = whisper.load_audio(file_name)\n",
    "print(audio)\n",
    "\n",
    "result = model.transcribe(file_name)\n",
    "print(result[\"text\"])"
   ]
  },
  {
   "cell_type": "code",
   "execution_count": null,
   "id": "74dc55cd",
   "metadata": {},
   "outputs": [],
   "source": [
    "speech = pd.DataFrame.from_dict(result['segments'])\n",
    "speech.head()"
   ]
  }
 ],
 "metadata": {
  "kernelspec": {
   "display_name": "Python 3 (ipykernel)",
   "language": "python",
   "name": "python3"
  },
  "language_info": {
   "codemirror_mode": {
    "name": "ipython",
    "version": 3
   },
   "file_extension": ".py",
   "mimetype": "text/x-python",
   "name": "python",
   "nbconvert_exporter": "python",
   "pygments_lexer": "ipython3",
   "version": "3.10.5"
  }
 },
 "nbformat": 4,
 "nbformat_minor": 5
}
